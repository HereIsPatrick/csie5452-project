{
 "cells": [
  {
   "cell_type": "markdown",
   "metadata": {},
   "source": [
    "## Traffic Sign Recognition(Lenet)"
   ]
  },
  {
   "cell_type": "markdown",
   "metadata": {},
   "source": [
    "### Data Preprocessing\n"
   ]
  },
  {
   "cell_type": "code",
   "execution_count": 1,
   "metadata": {},
   "outputs": [
    {
     "name": "stderr",
     "output_type": "stream",
     "text": [
      "Using TensorFlow backend.\n"
     ]
    }
   ],
   "source": [
    "import warnings\n",
    "warnings.filterwarnings('ignore') \n",
    "\n",
    "import numpy as np\n",
    "from skimage import io, color, exposure, transform\n",
    "from sklearn.model_selection import train_test_split\n",
    "import os\n",
    "import glob\n",
    "import h5py\n",
    "\n",
    "from keras.preprocessing.image import ImageDataGenerator\n",
    "from keras.models import Sequential, model_from_json\n",
    "from keras.layers.core import Dense, Dropout, Activation, Flatten\n",
    "from keras.layers.convolutional import Conv2D\n",
    "from keras.layers.pooling import MaxPooling2D\n",
    "\n",
    "from keras.optimizers import SGD\n",
    "import keras.utils as np_utils\n",
    "from keras.callbacks import LearningRateScheduler, ModelCheckpoint\n",
    "\n",
    "from matplotlib import pyplot as plt\n",
    "\n",
    "%matplotlib inline\n",
    "\n",
    "NUM_CLASSES = 43 # 43 classes\n",
    "IMG_SIZE = 32 "
   ]
  },
  {
   "cell_type": "markdown",
   "metadata": {},
   "source": [
    "### Data process"
   ]
  },
  {
   "cell_type": "markdown",
   "metadata": {},
   "source": [
    "Resize to 32x32 and normalizing"
   ]
  },
  {
   "cell_type": "code",
   "execution_count": 2,
   "metadata": {},
   "outputs": [],
   "source": [
    "import os\n",
    "from pathlib import PurePath \n",
    "\n",
    "\n",
    "def preprocess_img(img):\n",
    "    hsv = color.rgb2hsv(img) \n",
    "    hsv[:,:,2] = exposure.equalize_hist(hsv[:,:,2])\n",
    "    img = color.hsv2rgb(hsv)\n",
    "    \n",
    "    min_side = min(img.shape[:-1])\n",
    "    centre = img.shape[0]//2, img.shape[1]//2\n",
    "    img = img[centre[0]-min_side//2:centre[0]+min_side//2,\n",
    "              centre[1]-min_side//2:centre[1]+min_side//2,\n",
    "              :]\n",
    "    \n",
    "    img = transform.resize(img, (IMG_SIZE, IMG_SIZE))    \n",
    "    return img\n",
    "\n",
    "def get_class(img_path):\n",
    "    return int(PurePath(img_path).parts[-2])"
   ]
  },
  {
   "cell_type": "markdown",
   "metadata": {},
   "source": [
    "### Convert image to numpy and label encode with one-hot"
   ]
  },
  {
   "cell_type": "code",
   "execution_count": 3,
   "metadata": {},
   "outputs": [
    {
     "name": "stdout",
     "output_type": "stream",
     "text": [
      "Loaded images from X.h5\n"
     ]
    }
   ],
   "source": [
    "try:\n",
    "    with h5py.File('X.h5') as hf:\n",
    "        X, Y = hf['imgs'][:], hf['labels'][:]\n",
    "    \n",
    "    print(\"Loaded images from X.h5\")\n",
    "    \n",
    "except(IOError, OSError, KeyError):\n",
    "    print(\"Error in reading X.h5. Processing all images...\")\n",
    "    root_dir = 'GTSRB/Final_Training/Images/'\n",
    "    imgs = []\n",
    "    labels = []\n",
    "    \n",
    "    all_img_paths = glob.glob(os.path.join(root_dir, '*/*.ppm')) \n",
    "    np.random.shuffle(all_img_paths)\n",
    "    for img_path in all_img_paths:\n",
    "        try:\n",
    "            img = preprocess_img(io.imread(img_path))\n",
    "            label = get_class(img_path)\n",
    "            imgs.append(img) \n",
    "            labels.append(label) \n",
    "            \n",
    "            if len(imgs)%1000 == 0:\n",
    "                print(\"Processed {}/{}\".format(len(imgs), len(all_img_paths))) \n",
    "        except(IOError, OSError):\n",
    "            print('missed', img_path)\n",
    "            pass\n",
    "        \n",
    "    X = np.array(imgs, dtype='float32') \n",
    "    Y = np.eye(NUM_CLASSES, dtype='uint8')[labels] \n",
    "    \n",
    "    with h5py.File('X.h5', 'w') as hf:\n",
    "        hf.create_dataset('imgs', data=X)\n",
    "        hf.create_dataset('labels', data=Y)"
   ]
  },
  {
   "cell_type": "markdown",
   "metadata": {},
   "source": [
    "## Lenet Model with 2 Convolution, 2 Max Pooling, Flatten and 3 Dense.\n"
   ]
  },
  {
   "cell_type": "code",
   "execution_count": 4,
   "metadata": {},
   "outputs": [
    {
     "name": "stdout",
     "output_type": "stream",
     "text": [
      "_________________________________________________________________\n",
      "Layer (type)                 Output Shape              Param #   \n",
      "=================================================================\n",
      "conv2d_1 (Conv2D)            (None, 32, 32, 32)        2432      \n",
      "_________________________________________________________________\n",
      "max_pooling2d_1 (MaxPooling2 (None, 16, 16, 32)        0         \n",
      "_________________________________________________________________\n",
      "dropout_1 (Dropout)          (None, 16, 16, 32)        0         \n",
      "_________________________________________________________________\n",
      "activation_1 (Activation)    (None, 16, 16, 32)        0         \n",
      "_________________________________________________________________\n",
      "conv2d_2 (Conv2D)            (None, 12, 12, 32)        25632     \n",
      "_________________________________________________________________\n",
      "max_pooling2d_2 (MaxPooling2 (None, 6, 6, 32)          0         \n",
      "_________________________________________________________________\n",
      "dropout_2 (Dropout)          (None, 6, 6, 32)          0         \n",
      "_________________________________________________________________\n",
      "activation_2 (Activation)    (None, 6, 6, 32)          0         \n",
      "_________________________________________________________________\n",
      "flatten_1 (Flatten)          (None, 1152)              0         \n",
      "_________________________________________________________________\n",
      "dense_1 (Dense)              (None, 120)               138360    \n",
      "_________________________________________________________________\n",
      "dense_2 (Dense)              (None, 84)                10164     \n",
      "_________________________________________________________________\n",
      "dense_3 (Dense)              (None, 43)                3655      \n",
      "=================================================================\n",
      "Total params: 180,243\n",
      "Trainable params: 180,243\n",
      "Non-trainable params: 0\n",
      "_________________________________________________________________\n"
     ]
    }
   ],
   "source": [
    "def lenet_model():\n",
    "    model = Sequential()    \n",
    "    # Convolution / Max / Pooling / Dropout\n",
    "    model.add(Conv2D(32, (5, 5), padding='same', input_shape=(IMG_SIZE, IMG_SIZE, 3)))\n",
    "    model.add(MaxPooling2D(pool_size=(2, 2)))\n",
    "    model.add(Dropout(0.5))\n",
    "    model.add(Activation('relu'))\n",
    "\n",
    "    # Convolution / Max / Pooling / Dropout\n",
    "    model.add(Conv2D(32, (5, 5), border_mode='valid'))\n",
    "    model.add(MaxPooling2D(pool_size=(2, 2)))\n",
    "    model.add(Dropout(0.5))\n",
    "    model.add(Activation('relu'))\n",
    "\n",
    "    # Flatten for a Fully connected layer\n",
    "    model.add(Flatten())\n",
    "\n",
    "    # Fully connected 1\n",
    "    model.add(Dense(120,activation='relu'))\n",
    "\n",
    "    # Fully connected 2\n",
    "    model.add(Dense(84, activation='relu'))\n",
    "\n",
    "    # Fully connected 3\n",
    "    model.add(Dense(NUM_CLASSES, activation='softmax'))\n",
    " \n",
    "    \n",
    "    return model;   \n",
    "\n",
    "model = lenet_model() \n",
    "model.summary() \n"
   ]
  },
  {
   "cell_type": "code",
   "execution_count": 5,
   "metadata": {},
   "outputs": [],
   "source": [
    "lr = 0.01\n",
    "sgd = SGD(lr=lr, decay=1e-6, momentum=0.9, nesterov=True)\n",
    "model.compile(loss='categorical_crossentropy',\n",
    "             optimizer=sgd,\n",
    "             metrics=['accuracy'])"
   ]
  },
  {
   "cell_type": "markdown",
   "metadata": {},
   "source": [
    "## Training"
   ]
  },
  {
   "cell_type": "code",
   "execution_count": 6,
   "metadata": {},
   "outputs": [
    {
     "name": "stdout",
     "output_type": "stream",
     "text": [
      "Train on 31367 samples, validate on 7842 samples\n",
      "Epoch 1/30\n",
      "31367/31367 [==============================] - 5s 158us/step - loss: 1.7249 - acc: 0.4904 - val_loss: 0.6454 - val_acc: 0.8090\n",
      "Epoch 2/30\n",
      "31367/31367 [==============================] - 4s 116us/step - loss: 0.7424 - acc: 0.7582 - val_loss: 0.3951 - val_acc: 0.8903\n",
      "Epoch 3/30\n",
      "31367/31367 [==============================] - 4s 121us/step - loss: 0.5921 - acc: 0.8047 - val_loss: 0.2469 - val_acc: 0.9341\n",
      "Epoch 4/30\n",
      "31367/31367 [==============================] - 4s 121us/step - loss: 0.5231 - acc: 0.8316 - val_loss: 0.2617 - val_acc: 0.9290\n",
      "Epoch 5/30\n",
      "31367/31367 [==============================] - 4s 123us/step - loss: 0.4838 - acc: 0.8459 - val_loss: 0.2291 - val_acc: 0.9387\n",
      "Epoch 6/30\n",
      "31367/31367 [==============================] - 4s 117us/step - loss: 0.4421 - acc: 0.8598 - val_loss: 0.1873 - val_acc: 0.9454\n",
      "Epoch 7/30\n",
      "31367/31367 [==============================] - 4s 118us/step - loss: 0.4254 - acc: 0.8650 - val_loss: 0.1755 - val_acc: 0.9528\n",
      "Epoch 8/30\n",
      "31367/31367 [==============================] - 4s 116us/step - loss: 0.4105 - acc: 0.8695 - val_loss: 0.2201 - val_acc: 0.9292\n",
      "Epoch 9/30\n",
      "31367/31367 [==============================] - 4s 117us/step - loss: 0.3936 - acc: 0.8769 - val_loss: 0.1936 - val_acc: 0.9505\n",
      "Epoch 10/30\n",
      "31367/31367 [==============================] - 4s 122us/step - loss: 0.3835 - acc: 0.8804 - val_loss: 0.1547 - val_acc: 0.9521\n",
      "Epoch 11/30\n",
      "31367/31367 [==============================] - 4s 113us/step - loss: 0.2545 - acc: 0.9177 - val_loss: 0.0944 - val_acc: 0.9756\n",
      "Epoch 12/30\n",
      "31367/31367 [==============================] - 4s 117us/step - loss: 0.2272 - acc: 0.9257 - val_loss: 0.0918 - val_acc: 0.9758\n",
      "Epoch 13/30\n",
      "31367/31367 [==============================] - 4s 117us/step - loss: 0.2128 - acc: 0.9309 - val_loss: 0.0859 - val_acc: 0.9784\n",
      "Epoch 14/30\n",
      "31367/31367 [==============================] - 4s 119us/step - loss: 0.2037 - acc: 0.9327 - val_loss: 0.0842 - val_acc: 0.9787\n",
      "Epoch 15/30\n",
      "31367/31367 [==============================] - 4s 113us/step - loss: 0.1957 - acc: 0.9360 - val_loss: 0.0786 - val_acc: 0.9791\n",
      "Epoch 16/30\n",
      "31367/31367 [==============================] - 4s 112us/step - loss: 0.1985 - acc: 0.9356 - val_loss: 0.0799 - val_acc: 0.9795\n",
      "Epoch 17/30\n",
      "31367/31367 [==============================] - 4s 122us/step - loss: 0.1824 - acc: 0.9395 - val_loss: 0.0743 - val_acc: 0.9807\n",
      "Epoch 18/30\n",
      "31367/31367 [==============================] - 4s 115us/step - loss: 0.1823 - acc: 0.9386 - val_loss: 0.0712 - val_acc: 0.9819\n",
      "Epoch 19/30\n",
      "31367/31367 [==============================] - 4s 118us/step - loss: 0.1722 - acc: 0.9439 - val_loss: 0.0701 - val_acc: 0.9821\n",
      "Epoch 20/30\n",
      "31367/31367 [==============================] - 4s 117us/step - loss: 0.1768 - acc: 0.9418 - val_loss: 0.0725 - val_acc: 0.9819\n",
      "Epoch 21/30\n",
      "31367/31367 [==============================] - 4s 125us/step - loss: 0.1680 - acc: 0.9447 - val_loss: 0.0694 - val_acc: 0.9829\n",
      "Epoch 22/30\n",
      "31367/31367 [==============================] - 4s 120us/step - loss: 0.1619 - acc: 0.9457 - val_loss: 0.0681 - val_acc: 0.9828\n",
      "Epoch 23/30\n",
      "31367/31367 [==============================] - 3s 111us/step - loss: 0.1625 - acc: 0.9475 - val_loss: 0.0678 - val_acc: 0.9829\n",
      "Epoch 24/30\n",
      "31367/31367 [==============================] - 4s 115us/step - loss: 0.1638 - acc: 0.9454 - val_loss: 0.0679 - val_acc: 0.9830\n",
      "Epoch 25/30\n",
      "31367/31367 [==============================] - 4s 115us/step - loss: 0.1647 - acc: 0.9466 - val_loss: 0.0671 - val_acc: 0.9830\n",
      "Epoch 26/30\n",
      "31367/31367 [==============================] - 4s 120us/step - loss: 0.1653 - acc: 0.9451 - val_loss: 0.0674 - val_acc: 0.9828\n",
      "Epoch 27/30\n",
      "31367/31367 [==============================] - 4s 120us/step - loss: 0.1615 - acc: 0.9465 - val_loss: 0.0666 - val_acc: 0.9830\n",
      "Epoch 28/30\n",
      "31367/31367 [==============================] - 4s 116us/step - loss: 0.1564 - acc: 0.9479 - val_loss: 0.0665 - val_acc: 0.9827\n",
      "Epoch 29/30\n",
      "31367/31367 [==============================] - 4s 112us/step - loss: 0.1611 - acc: 0.9469 - val_loss: 0.0663 - val_acc: 0.9839\n",
      "Epoch 30/30\n",
      "31367/31367 [==============================] - 4s 114us/step - loss: 0.1634 - acc: 0.9469 - val_loss: 0.0656 - val_acc: 0.9833\n"
     ]
    }
   ],
   "source": [
    "def lr_schedule(epoch):\n",
    "    return lr*(0.1**int(epoch/10))\n",
    "\n",
    "batch_size = 32\n",
    "nb_epoch = 30\n",
    "\n",
    "history = model.fit(X, Y,\n",
    "         batch_size=batch_size,\n",
    "         epochs=nb_epoch,\n",
    "         validation_split=0.2,\n",
    "         shuffle=True,\n",
    "         callbacks=[LearningRateScheduler(lr_schedule),\n",
    "             ModelCheckpoint('model.h5', save_best_only=True)\n",
    "         ])"
   ]
  },
  {
   "cell_type": "code",
   "execution_count": 7,
   "metadata": {},
   "outputs": [
    {
     "data": {
      "image/png": "[encoded data removed]",
      "text/plain": [
       "<Figure size 864x288 with 2 Axes>"
      ]
     },
     "metadata": {},
     "output_type": "display_data"
    }
   ],
   "source": [
    "import matplotlib.pyplot as plt\n",
    "\n",
    "def plot_train_history(history, train_metrics, val_metrics):\n",
    "    plt.plot(history.history.get(train_metrics),'b-*')\n",
    "    plt.plot(history.history.get(val_metrics),'r-*')\n",
    "    plt.ylabel(train_metrics)\n",
    "    plt.xlabel('Epochs')\n",
    "    plt.legend(['train', 'validation'])\n",
    "    \n",
    "    \n",
    "plt.figure(figsize=(12,4))\n",
    "plt.grid()\n",
    "plt.subplot(1,2,1)\n",
    "plot_train_history(history, 'loss','val_loss')\n",
    "\n",
    "\n",
    "plt.subplot(1,2,2)\n",
    "plot_train_history(history, 'acc','val_acc')\n",
    "\n",
    "\n",
    "plt.show()"
   ]
  },
  {
   "cell_type": "markdown",
   "metadata": {},
   "source": [
    "## Evaluation"
   ]
  },
  {
   "cell_type": "code",
   "execution_count": 8,
   "metadata": {
    "scrolled": true
   },
   "outputs": [
    {
     "name": "stdout",
     "output_type": "stream",
     "text": [
      "X_test.shape:  (12630, 32, 32, 3)\n",
      "y_test.shape:  (12630,)\n"
     ]
    }
   ],
   "source": [
    "# 載入測試資料\n",
    "import pandas as pd\n",
    "test = pd.read_csv('GTSRB/GT-final_test.csv', sep=';') # 裡面包含了六個欄位 Filename;Width;Height;Roi.X1;Roi.Y1;Roi.X2;Roi.Y2;ClassId\n",
    "\n",
    "X_test = []\n",
    "y_test = []\n",
    "\n",
    "# 迭代處理每一筆要測試的圖像檔\n",
    "i=0\n",
    "for file_name, class_id in zip(list(test['Filename']),list(test['ClassId'])):\n",
    "    img_path = os.path.join('GTSRB/Final_Test/Images/',file_name)\n",
    "    X_test.append(preprocess_img(io.imread(img_path)))\n",
    "    y_test.append(class_id)\n",
    "    \n",
    "# 轉換成numpy ndarray\n",
    "X_test = np.array(X_test)\n",
    "y_test = np.array(y_test)\n",
    "\n",
    "print(\"X_test.shape: \", X_test.shape)\n",
    "print(\"y_test.shape: \", y_test.shape)"
   ]
  },
  {
   "cell_type": "markdown",
   "metadata": {},
   "source": [
    "### Test Accuracy"
   ]
  },
  {
   "cell_type": "code",
   "execution_count": 9,
   "metadata": {},
   "outputs": [
    {
     "name": "stdout",
     "output_type": "stream",
     "text": [
      "Test accuracy = 0.9405384006334125\n"
     ]
    }
   ],
   "source": [
    "y_pred = model.predict_classes(X_test)\n",
    "acc = np.sum(y_pred==y_test)/np.size(y_pred)\n",
    "print(\"Test accuracy = {}\".format(acc))"
   ]
  },
  {
   "cell_type": "markdown",
   "metadata": {},
   "source": [
    "## Data Augmentation(use ImageDataGenerator)\n"
   ]
  },
  {
   "cell_type": "code",
   "execution_count": 10,
   "metadata": {},
   "outputs": [],
   "source": [
    "from sklearn.model_selection import train_test_split\n",
    "\n",
    "X_train, X_val, Y_train, Y_val = train_test_split(X, Y, test_size=0.2, random_state=42)\n",
    "\n",
    "datagen = ImageDataGenerator(featurewise_center=False, \n",
    "                            featurewise_std_normalization=False, \n",
    "                            rotation_range=10.,\n",
    "                            width_shift_range=0.1,\n",
    "                            height_shift_range=0.1,                             \n",
    "                            shear_range=0.1,\n",
    "                            zoom_range=0.2,\n",
    "                            )\n",
    "\n",
    "datagen.fit(X_train)"
   ]
  },
  {
   "cell_type": "code",
   "execution_count": 11,
   "metadata": {},
   "outputs": [
    {
     "name": "stdout",
     "output_type": "stream",
     "text": [
      "Epoch 1/30\n",
      "981/980 [==============================] - 9s 10ms/step - loss: 2.4697 - acc: 0.2788 - val_loss: 1.3923 - val_acc: 0.5629\n",
      "Epoch 2/30\n",
      "981/980 [==============================] - 9s 9ms/step - loss: 1.5339 - acc: 0.5030 - val_loss: 0.9107 - val_acc: 0.7307\n",
      "Epoch 3/30\n",
      "981/980 [==============================] - 9s 9ms/step - loss: 1.3008 - acc: 0.5760 - val_loss: 0.6863 - val_acc: 0.7584\n",
      "Epoch 4/30\n",
      "981/980 [==============================] - 9s 9ms/step - loss: 1.1294 - acc: 0.6333 - val_loss: 0.5476 - val_acc: 0.8090\n",
      "Epoch 5/30\n",
      "981/980 [==============================] - 9s 9ms/step - loss: 1.0404 - acc: 0.6628 - val_loss: 0.5143 - val_acc: 0.8500\n",
      "Epoch 6/30\n",
      "981/980 [==============================] - 9s 9ms/step - loss: 0.9734 - acc: 0.6832 - val_loss: 0.4289 - val_acc: 0.8739\n",
      "Epoch 7/30\n",
      "981/980 [==============================] - 9s 9ms/step - loss: 0.9168 - acc: 0.7017 - val_loss: 0.3610 - val_acc: 0.9019\n",
      "Epoch 8/30\n",
      "981/980 [==============================] - 9s 9ms/step - loss: 0.8705 - acc: 0.7175 - val_loss: 0.3277 - val_acc: 0.8924\n",
      "Epoch 9/30\n",
      "981/980 [==============================] - 9s 9ms/step - loss: 0.8638 - acc: 0.7234 - val_loss: 0.3393 - val_acc: 0.8990\n",
      "Epoch 10/30\n",
      "981/980 [==============================] - 9s 9ms/step - loss: 0.8229 - acc: 0.7373 - val_loss: 0.2877 - val_acc: 0.9078\n",
      "Epoch 11/30\n",
      "981/980 [==============================] - 9s 9ms/step - loss: 0.6557 - acc: 0.7848 - val_loss: 0.1969 - val_acc: 0.9481\n",
      "Epoch 12/30\n",
      "981/980 [==============================] - 9s 9ms/step - loss: 0.6005 - acc: 0.8016 - val_loss: 0.1879 - val_acc: 0.9526\n",
      "Epoch 13/30\n",
      "981/980 [==============================] - 9s 9ms/step - loss: 0.5753 - acc: 0.8110 - val_loss: 0.1796 - val_acc: 0.9535\n",
      "Epoch 14/30\n",
      "981/980 [==============================] - 9s 9ms/step - loss: 0.5648 - acc: 0.8120 - val_loss: 0.1737 - val_acc: 0.9542\n",
      "Epoch 15/30\n",
      "981/980 [==============================] - 9s 9ms/step - loss: 0.5469 - acc: 0.8201 - val_loss: 0.1620 - val_acc: 0.9587\n",
      "Epoch 16/30\n",
      "981/980 [==============================] - 9s 9ms/step - loss: 0.5353 - acc: 0.8224 - val_loss: 0.1630 - val_acc: 0.9609\n",
      "Epoch 17/30\n",
      "981/980 [==============================] - 9s 9ms/step - loss: 0.5180 - acc: 0.8284 - val_loss: 0.1506 - val_acc: 0.9614\n",
      "Epoch 18/30\n",
      "981/980 [==============================] - 9s 9ms/step - loss: 0.5153 - acc: 0.8273 - val_loss: 0.1474 - val_acc: 0.9620\n",
      "Epoch 19/30\n",
      "981/980 [==============================] - 9s 9ms/step - loss: 0.5081 - acc: 0.8290 - val_loss: 0.1574 - val_acc: 0.9630\n",
      "Epoch 20/30\n",
      "981/980 [==============================] - 9s 9ms/step - loss: 0.4995 - acc: 0.8361 - val_loss: 0.1463 - val_acc: 0.9648\n",
      "Epoch 21/30\n",
      "981/980 [==============================] - 9s 9ms/step - loss: 0.4903 - acc: 0.8376 - val_loss: 0.1400 - val_acc: 0.9663\n",
      "Epoch 22/30\n",
      "981/980 [==============================] - 9s 9ms/step - loss: 0.4840 - acc: 0.8393 - val_loss: 0.1402 - val_acc: 0.9660\n",
      "Epoch 23/30\n",
      "981/980 [==============================] - 9s 9ms/step - loss: 0.4791 - acc: 0.8402 - val_loss: 0.1398 - val_acc: 0.9643\n",
      "Epoch 24/30\n",
      "981/980 [==============================] - 9s 9ms/step - loss: 0.4744 - acc: 0.8399 - val_loss: 0.1397 - val_acc: 0.9653\n",
      "Epoch 25/30\n",
      "981/980 [==============================] - 9s 9ms/step - loss: 0.4792 - acc: 0.8400 - val_loss: 0.1384 - val_acc: 0.9662\n",
      "Epoch 26/30\n",
      "981/980 [==============================] - 9s 9ms/step - loss: 0.4690 - acc: 0.8417 - val_loss: 0.1337 - val_acc: 0.9663\n",
      "Epoch 27/30\n",
      "981/980 [==============================] - 9s 9ms/step - loss: 0.4740 - acc: 0.8428 - val_loss: 0.1339 - val_acc: 0.9663\n",
      "Epoch 28/30\n",
      "981/980 [==============================] - 9s 9ms/step - loss: 0.4734 - acc: 0.8432 - val_loss: 0.1336 - val_acc: 0.9676\n",
      "Epoch 29/30\n",
      "981/980 [==============================] - 9s 9ms/step - loss: 0.4793 - acc: 0.8408 - val_loss: 0.1341 - val_acc: 0.9680\n",
      "Epoch 30/30\n",
      "981/980 [==============================] - 9s 9ms/step - loss: 0.4746 - acc: 0.8418 - val_loss: 0.1331 - val_acc: 0.9676\n"
     ]
    }
   ],
   "source": [
    "# 重新重置一個新的模型\n",
    "model = lenet_model()\n",
    "\n",
    "# 讓我們用相同的組合\n",
    "lr = 0.01\n",
    "sgd = SGD(lr=lr, decay=1e-6, momentum=0.9, nesterov=True)\n",
    "model.compile(loss='categorical_crossentropy',\n",
    "             optimizer=sgd,\n",
    "             metrics=['accuracy'])\n",
    "\n",
    "def lr_schedule(epoch):\n",
    "    return lr*(0.1**int(epoch/10))\n",
    "\n",
    "batch_size = 32\n",
    "nb_epoch = 30\n",
    "\n",
    "# 透過data generator來產生訓練資料, 由於資料是可持續產生, 我們可以透過設定'steps_per_epoch'的數量來讓模型可以有更多的訓練批次\n",
    "history = model.fit_generator(datagen.flow(X_train, Y_train, batch_size=batch_size),\n",
    "                            steps_per_epoch=X_train.shape[0]/batch_size,\n",
    "                            epochs=nb_epoch,\n",
    "                            validation_data=(X_val, Y_val),\n",
    "                            callbacks=[LearningRateScheduler(lr_schedule),\n",
    "                                       ModelCheckpoint('model2.h5',save_best_only=True)]\n",
    "                           )"
   ]
  },
  {
   "cell_type": "code",
   "execution_count": 12,
   "metadata": {},
   "outputs": [
    {
     "data": {
      "image/png": "[encoded data removed]",
      "text/plain": [
       "<Figure size 864x288 with 2 Axes>"
      ]
     },
     "metadata": {},
     "output_type": "display_data"
    }
   ],
   "source": [
    "import matplotlib.pyplot as plt\n",
    "\n",
    "def plot_train_history(history, train_metrics, val_metrics):\n",
    "    plt.plot(history.history.get(train_metrics),'b-*')\n",
    "    plt.plot(history.history.get(val_metrics),'r-*')\n",
    "    plt.ylabel(train_metrics)\n",
    "    plt.xlabel('Epochs')\n",
    "    plt.legend(['train', 'validation'])\n",
    "    \n",
    "    \n",
    "plt.figure(figsize=(12,4))\n",
    "plt.grid()\n",
    "plt.subplot(1,2,1)\n",
    "plot_train_history(history, 'loss','val_loss')\n",
    "\n",
    "\n",
    "plt.subplot(1,2,2)\n",
    "plot_train_history(history, 'acc','val_acc')\n",
    "\n",
    "\n",
    "plt.show()"
   ]
  },
  {
   "cell_type": "markdown",
   "metadata": {},
   "source": [
    "## Evaluation(Data Augmentation)"
   ]
  },
  {
   "cell_type": "code",
   "execution_count": 13,
   "metadata": {},
   "outputs": [
    {
     "name": "stdout",
     "output_type": "stream",
     "text": [
      "Test accuracy = 0.934916864608076\n"
     ]
    }
   ],
   "source": [
    "y_pred = model.predict_classes(X_test)\n",
    "acc = np.sum(y_pred==y_test)/np.size(y_pred)\n",
    "print(\"Test accuracy = {}\".format(acc))"
   ]
  },
  {
   "cell_type": "code",
   "execution_count": null,
   "metadata": {},
   "outputs": [],
   "source": []
  }
 ],
 "metadata": {
  "kernelspec": {
   "display_name": "Python 3",
   "language": "python",
   "name": "python3"
  },
  "language_info": {
   "codemirror_mode": {
    "name": "ipython",
    "version": 3
   },
   "file_extension": ".py",
   "mimetype": "text/x-python",
   "name": "python",
   "nbconvert_exporter": "python",
   "pygments_lexer": "ipython3",
   "version": "3.6.3"
  }
 },
 "nbformat": 4,
 "nbformat_minor": 2
}
