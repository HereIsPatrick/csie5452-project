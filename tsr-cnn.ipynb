{
 "cells": [
  {
   "cell_type": "markdown",
   "metadata": {},
   "source": [
    "## Traffic Sign Recognition(CNN)"
   ]
  },
  {
   "cell_type": "markdown",
   "metadata": {},
   "source": [
    "### Data Preprocessing"
   ]
  },
  {
   "cell_type": "code",
   "execution_count": 1,
   "metadata": {},
   "outputs": [
    {
     "name": "stderr",
     "output_type": "stream",
     "text": [
      "Using TensorFlow backend.\n"
     ]
    }
   ],
   "source": [
    "import warnings\n",
    "warnings.filterwarnings('ignore')\n",
    "\n",
    "import numpy as np\n",
    "from skimage import io, color, exposure, transform\n",
    "from sklearn.model_selection import train_test_split\n",
    "import os\n",
    "import glob\n",
    "import h5py\n",
    "\n",
    "from keras.preprocessing.image import ImageDataGenerator\n",
    "from keras.models import Sequential, model_from_json\n",
    "from keras.layers.core import Dense, Dropout, Activation, Flatten\n",
    "from keras.layers.convolutional import Conv2D\n",
    "from keras.layers.pooling import MaxPooling2D\n",
    "\n",
    "from keras.optimizers import SGD\n",
    "import keras.utils as np_utils\n",
    "from keras.callbacks import LearningRateScheduler, ModelCheckpoint\n",
    "\n",
    "from matplotlib import pyplot as plt\n",
    "\n",
    "%matplotlib inline\n",
    "\n",
    "NUM_CLASSES = 43 \n",
    "IMG_SIZE = 32 "
   ]
  },
  {
   "cell_type": "markdown",
   "metadata": {},
   "source": [
    "### Data process"
   ]
  },
  {
   "cell_type": "markdown",
   "metadata": {},
   "source": [
    "Resize to 32x32 and normalizing"
   ]
  },
  {
   "cell_type": "code",
   "execution_count": 2,
   "metadata": {},
   "outputs": [],
   "source": [
    "import os\n",
    "from pathlib import PurePath\n",
    "\n",
    "def preprocess_img(img):\n",
    "    hsv = color.rgb2hsv(img) \n",
    "    hsv[:,:,2] = exposure.equalize_hist(hsv[:,:,2])\n",
    "    img = color.hsv2rgb(hsv)\n",
    "    \n",
    "    min_side = min(img.shape[:-1])\n",
    "    centre = img.shape[0]//2, img.shape[1]//2\n",
    "    img = img[centre[0]-min_side//2:centre[0]+min_side//2,\n",
    "              centre[1]-min_side//2:centre[1]+min_side//2,\n",
    "              :]\n",
    "    \n",
    "    img = transform.resize(img, (IMG_SIZE, IMG_SIZE))    \n",
    "    return img\n",
    "\n",
    "def get_class(img_path):\n",
    "    return int(PurePath(img_path).parts[-2])"
   ]
  },
  {
   "cell_type": "markdown",
   "metadata": {},
   "source": [
    "### Convert image to numpy and label encode with one-hot"
   ]
  },
  {
   "cell_type": "code",
   "execution_count": 3,
   "metadata": {},
   "outputs": [
    {
     "name": "stdout",
     "output_type": "stream",
     "text": [
      "Error in reading X.h5. Processing all images...\n",
      "Processed 1000/39209\n",
      "Processed 2000/39209\n",
      "Processed 3000/39209\n",
      "Processed 4000/39209\n",
      "Processed 5000/39209\n",
      "Processed 6000/39209\n",
      "Processed 7000/39209\n",
      "Processed 8000/39209\n",
      "Processed 9000/39209\n",
      "Processed 10000/39209\n",
      "Processed 11000/39209\n",
      "Processed 12000/39209\n",
      "Processed 13000/39209\n",
      "Processed 14000/39209\n",
      "Processed 15000/39209\n",
      "Processed 16000/39209\n",
      "Processed 17000/39209\n",
      "Processed 18000/39209\n",
      "Processed 19000/39209\n",
      "Processed 20000/39209\n",
      "Processed 21000/39209\n",
      "Processed 22000/39209\n",
      "Processed 23000/39209\n",
      "Processed 24000/39209\n",
      "Processed 25000/39209\n",
      "Processed 26000/39209\n",
      "Processed 27000/39209\n",
      "Processed 28000/39209\n",
      "Processed 29000/39209\n",
      "Processed 30000/39209\n",
      "Processed 31000/39209\n",
      "Processed 32000/39209\n",
      "Processed 33000/39209\n",
      "Processed 34000/39209\n",
      "Processed 35000/39209\n",
      "Processed 36000/39209\n",
      "Processed 37000/39209\n",
      "Processed 38000/39209\n",
      "Processed 39000/39209\n"
     ]
    }
   ],
   "source": [
    "try:\n",
    "    with h5py.File('X.h5') as hf:\n",
    "        X, Y = hf['imgs'][:], hf['labels'][:]\n",
    "    \n",
    "    print(\"Loaded images from X.h5\")\n",
    "    \n",
    "except(IOError, OSError, KeyError):\n",
    "    print(\"Error in reading X.h5. Processing all images...\")\n",
    "    root_dir = 'GTSRB/Final_Training/Images/'\n",
    "    imgs = []\n",
    "    labels = []\n",
    "    \n",
    "    all_img_paths = glob.glob(os.path.join(root_dir, '*/*.ppm')) \n",
    "    np.random.shuffle(all_img_paths) \n",
    "    for img_path in all_img_paths:\n",
    "        try:\n",
    "            img = preprocess_img(io.imread(img_path))\n",
    "            label = get_class(img_path)\n",
    "            imgs.append(img) \n",
    "            labels.append(label)\n",
    "            \n",
    "            if len(imgs)%1000 == 0:\n",
    "                print(\"Processed {}/{}\".format(len(imgs), len(all_img_paths)))\n",
    "        except(IOError, OSError):\n",
    "            print('missed', img_path)\n",
    "            pass\n",
    "        \n",
    "    X = np.array(imgs, dtype='float32') \n",
    "    Y = np.eye(NUM_CLASSES, dtype='uint8')[labels] \n",
    "    \n",
    "    with h5py.File('X.h5', 'w') as hf:\n",
    "        hf.create_dataset('imgs', data=X)\n",
    "        hf.create_dataset('labels', data=Y)"
   ]
  },
  {
   "cell_type": "markdown",
   "metadata": {},
   "source": [
    "## Lenet Model with 6 Convolution, 3 Max Pooling, Flatten and 3 Dense."
   ]
  },
  {
   "cell_type": "code",
   "execution_count": 4,
   "metadata": {},
   "outputs": [
    {
     "name": "stdout",
     "output_type": "stream",
     "text": [
      "_________________________________________________________________\n",
      "Layer (type)                 Output Shape              Param #   \n",
      "=================================================================\n",
      "conv2d_1 (Conv2D)            (None, 32, 32, 32)        896       \n",
      "_________________________________________________________________\n",
      "conv2d_2 (Conv2D)            (None, 30, 30, 32)        9248      \n",
      "_________________________________________________________________\n",
      "max_pooling2d_1 (MaxPooling2 (None, 15, 15, 32)        0         \n",
      "_________________________________________________________________\n",
      "dropout_1 (Dropout)          (None, 15, 15, 32)        0         \n",
      "_________________________________________________________________\n",
      "conv2d_3 (Conv2D)            (None, 15, 15, 64)        18496     \n",
      "_________________________________________________________________\n",
      "conv2d_4 (Conv2D)            (None, 15, 15, 64)        36928     \n",
      "_________________________________________________________________\n",
      "max_pooling2d_2 (MaxPooling2 (None, 7, 7, 64)          0         \n",
      "_________________________________________________________________\n",
      "dropout_2 (Dropout)          (None, 7, 7, 64)          0         \n",
      "_________________________________________________________________\n",
      "conv2d_5 (Conv2D)            (None, 7, 7, 128)         73856     \n",
      "_________________________________________________________________\n",
      "conv2d_6 (Conv2D)            (None, 7, 7, 128)         147584    \n",
      "_________________________________________________________________\n",
      "max_pooling2d_3 (MaxPooling2 (None, 3, 3, 128)         0         \n",
      "_________________________________________________________________\n",
      "dropout_3 (Dropout)          (None, 3, 3, 128)         0         \n",
      "_________________________________________________________________\n",
      "flatten_1 (Flatten)          (None, 1152)              0         \n",
      "_________________________________________________________________\n",
      "dense_1 (Dense)              (None, 512)               590336    \n",
      "_________________________________________________________________\n",
      "dropout_4 (Dropout)          (None, 512)               0         \n",
      "_________________________________________________________________\n",
      "dense_2 (Dense)              (None, 43)                22059     \n",
      "=================================================================\n",
      "Total params: 899,403\n",
      "Trainable params: 899,403\n",
      "Non-trainable params: 0\n",
      "_________________________________________________________________\n"
     ]
    }
   ],
   "source": [
    "def cnn_model():\n",
    "    model = Sequential()\n",
    "    \n",
    "    model.add(Conv2D(32, (3, 3), padding='same', activation='relu', input_shape=(IMG_SIZE, IMG_SIZE, 3)))    \n",
    "    model.add(Conv2D(32, (3, 3), activation='relu'))\n",
    "    model.add(MaxPooling2D(pool_size=(2, 2)))\n",
    "    model.add(Dropout(0.2))\n",
    "    \n",
    "    model.add(Conv2D(64, (3, 3), padding='same', activation='relu'))\n",
    "    model.add(Conv2D(64, (3, 3), padding='same', activation='relu'))\n",
    "    model.add(MaxPooling2D(pool_size=(2, 2)))\n",
    "    model.add(Dropout(0.2))\n",
    "    \n",
    "    model.add(Conv2D(128, (3, 3), padding='same', activation='relu'))\n",
    "    model.add(Conv2D(128, (3, 3), padding='same', activation='relu'))\n",
    "    model.add(MaxPooling2D(pool_size=(2, 2)))\n",
    "    model.add(Dropout(0.2))\n",
    "    \n",
    "    model.add(Flatten())\n",
    "    model.add(Dense(512, activation='relu'))\n",
    "    model.add(Dropout(0.5))\n",
    "    model.add(Dense(NUM_CLASSES, activation='softmax'))\n",
    "    \n",
    "    return model;   \n",
    "\n",
    "model = cnn_model() \n",
    "model.summary()\n"
   ]
  },
  {
   "cell_type": "code",
   "execution_count": 5,
   "metadata": {},
   "outputs": [],
   "source": [
    "lr = 0.01\n",
    "sgd = SGD(lr=lr, decay=1e-6, momentum=0.9, nesterov=True)\n",
    "model.compile(loss='categorical_crossentropy',\n",
    "             optimizer=sgd,\n",
    "             metrics=['accuracy'])"
   ]
  },
  {
   "cell_type": "markdown",
   "metadata": {},
   "source": [
    "## Training"
   ]
  },
  {
   "cell_type": "code",
   "execution_count": 6,
   "metadata": {},
   "outputs": [
    {
     "name": "stdout",
     "output_type": "stream",
     "text": [
      "Train on 31367 samples, validate on 7842 samples\n",
      "Epoch 1/30\n",
      "31367/31367 [==============================] - 10s 308us/step - loss: 2.1683 - acc: 0.3963 - val_loss: 0.6363 - val_acc: 0.7948\n",
      "Epoch 2/30\n",
      "31367/31367 [==============================] - 8s 241us/step - loss: 0.3817 - acc: 0.8806 - val_loss: 0.1304 - val_acc: 0.9610\n",
      "Epoch 3/30\n",
      "31367/31367 [==============================] - 8s 266us/step - loss: 0.1970 - acc: 0.9397 - val_loss: 0.0942 - val_acc: 0.9722\n",
      "Epoch 4/30\n",
      "31367/31367 [==============================] - 8s 259us/step - loss: 0.1422 - acc: 0.9556 - val_loss: 0.0774 - val_acc: 0.9763\n",
      "Epoch 5/30\n",
      "31367/31367 [==============================] - 8s 248us/step - loss: 0.1135 - acc: 0.9657 - val_loss: 0.0592 - val_acc: 0.9830\n",
      "Epoch 6/30\n",
      "31367/31367 [==============================] - 8s 246us/step - loss: 0.0919 - acc: 0.9721 - val_loss: 0.0586 - val_acc: 0.9839\n",
      "Epoch 7/30\n",
      "31367/31367 [==============================] - 8s 257us/step - loss: 0.0802 - acc: 0.9764 - val_loss: 0.0412 - val_acc: 0.9881\n",
      "Epoch 8/30\n",
      "31367/31367 [==============================] - 8s 246us/step - loss: 0.0666 - acc: 0.9796 - val_loss: 0.0732 - val_acc: 0.9811\n",
      "Epoch 9/30\n",
      "31367/31367 [==============================] - 8s 250us/step - loss: 0.0687 - acc: 0.9799 - val_loss: 0.0374 - val_acc: 0.9901\n",
      "Epoch 10/30\n",
      "31367/31367 [==============================] - 8s 244us/step - loss: 0.0581 - acc: 0.9839 - val_loss: 0.0332 - val_acc: 0.9903\n",
      "Epoch 11/30\n",
      "31367/31367 [==============================] - 8s 249us/step - loss: 0.0254 - acc: 0.9918 - val_loss: 0.0236 - val_acc: 0.9929\n",
      "Epoch 12/30\n",
      "31367/31367 [==============================] - 8s 250us/step - loss: 0.0155 - acc: 0.9948 - val_loss: 0.0233 - val_acc: 0.9936\n",
      "Epoch 13/30\n",
      "31367/31367 [==============================] - 8s 246us/step - loss: 0.0138 - acc: 0.9959 - val_loss: 0.0228 - val_acc: 0.9931\n",
      "Epoch 14/30\n",
      "31367/31367 [==============================] - 8s 241us/step - loss: 0.0132 - acc: 0.9963 - val_loss: 0.0222 - val_acc: 0.9938\n",
      "Epoch 15/30\n",
      "31367/31367 [==============================] - 8s 242us/step - loss: 0.0124 - acc: 0.9959 - val_loss: 0.0232 - val_acc: 0.9934\n",
      "Epoch 16/30\n",
      "31367/31367 [==============================] - 8s 270us/step - loss: 0.0108 - acc: 0.9971 - val_loss: 0.0235 - val_acc: 0.9938\n",
      "Epoch 17/30\n",
      "31367/31367 [==============================] - 8s 257us/step - loss: 0.0101 - acc: 0.9968 - val_loss: 0.0223 - val_acc: 0.9939\n",
      "Epoch 18/30\n",
      "31367/31367 [==============================] - 8s 264us/step - loss: 0.0121 - acc: 0.9962 - val_loss: 0.0215 - val_acc: 0.9940\n",
      "Epoch 19/30\n",
      "31367/31367 [==============================] - 8s 265us/step - loss: 0.0102 - acc: 0.9964 - val_loss: 0.0205 - val_acc: 0.9944\n",
      "Epoch 20/30\n",
      "31367/31367 [==============================] - 8s 263us/step - loss: 0.0091 - acc: 0.9970 - val_loss: 0.0215 - val_acc: 0.9944\n",
      "Epoch 21/30\n",
      "31367/31367 [==============================] - 9s 288us/step - loss: 0.0091 - acc: 0.9972 - val_loss: 0.0211 - val_acc: 0.9943\n",
      "Epoch 22/30\n",
      "31367/31367 [==============================] - 9s 299us/step - loss: 0.0069 - acc: 0.9979 - val_loss: 0.0207 - val_acc: 0.9943\n",
      "Epoch 23/30\n",
      "31367/31367 [==============================] - 9s 280us/step - loss: 0.0086 - acc: 0.9970 - val_loss: 0.0207 - val_acc: 0.9941\n",
      "Epoch 24/30\n",
      "31367/31367 [==============================] - 8s 264us/step - loss: 0.0076 - acc: 0.9977 - val_loss: 0.0205 - val_acc: 0.9939\n",
      "Epoch 25/30\n",
      "31367/31367 [==============================] - 9s 290us/step - loss: 0.0078 - acc: 0.9975 - val_loss: 0.0202 - val_acc: 0.9940\n",
      "Epoch 26/30\n",
      "31367/31367 [==============================] - 8s 250us/step - loss: 0.0080 - acc: 0.9976 - val_loss: 0.0200 - val_acc: 0.9944\n",
      "Epoch 27/30\n",
      "31367/31367 [==============================] - 8s 268us/step - loss: 0.0076 - acc: 0.9976 - val_loss: 0.0201 - val_acc: 0.9944\n",
      "Epoch 28/30\n",
      "31367/31367 [==============================] - 8s 257us/step - loss: 0.0080 - acc: 0.9975 - val_loss: 0.0199 - val_acc: 0.9943\n",
      "Epoch 29/30\n",
      "31367/31367 [==============================] - 8s 251us/step - loss: 0.0075 - acc: 0.9979 - val_loss: 0.0198 - val_acc: 0.9941\n",
      "Epoch 30/30\n",
      "31367/31367 [==============================] - 8s 262us/step - loss: 0.0074 - acc: 0.9979 - val_loss: 0.0200 - val_acc: 0.9944\n"
     ]
    }
   ],
   "source": [
    "def lr_schedule(epoch):\n",
    "    return lr*(0.1**int(epoch/10))\n",
    "\n",
    "batch_size = 32\n",
    "nb_epoch = 30\n",
    "\n",
    "history = model.fit(X, Y,\n",
    "         batch_size=batch_size,\n",
    "         epochs=nb_epoch,\n",
    "         validation_split=0.2,\n",
    "         shuffle=True,\n",
    "         callbacks=[LearningRateScheduler(lr_schedule),\n",
    "             ModelCheckpoint('model.h5', save_best_only=True)\n",
    "         ])"
   ]
  },
  {
   "cell_type": "code",
   "execution_count": 7,
   "metadata": {},
   "outputs": [
    {
     "data": {
      "image/png": "[encoded data removed]",
      "text/plain": [
       "<Figure size 864x288 with 2 Axes>"
      ]
     },
     "metadata": {},
     "output_type": "display_data"
    }
   ],
   "source": [
    "import matplotlib.pyplot as plt\n",
    "\n",
    "def plot_train_history(history, train_metrics, val_metrics):\n",
    "    plt.plot(history.history.get(train_metrics),'b-*')\n",
    "    plt.plot(history.history.get(val_metrics),'r-*')\n",
    "    plt.ylabel(train_metrics)\n",
    "    plt.xlabel('Epochs')\n",
    "    plt.legend(['train', 'validation'])\n",
    "    \n",
    "    \n",
    "plt.figure(figsize=(12,4))\n",
    "plt.grid()\n",
    "plt.subplot(1,2,1)\n",
    "plot_train_history(history, 'loss','val_loss')\n",
    "\n",
    "\n",
    "plt.subplot(1,2,2)\n",
    "plot_train_history(history, 'acc','val_acc')\n",
    "\n",
    "\n",
    "plt.show()"
   ]
  },
  {
   "cell_type": "markdown",
   "metadata": {},
   "source": [
    "## Evaluation"
   ]
  },
  {
   "cell_type": "code",
   "execution_count": 8,
   "metadata": {
    "scrolled": true
   },
   "outputs": [
    {
     "name": "stdout",
     "output_type": "stream",
     "text": [
      "X_test.shape:  (12630, 32, 32, 3)\n",
      "y_test.shape:  (12630,)\n"
     ]
    }
   ],
   "source": [
    "import pandas as pd\n",
    "test = pd.read_csv('GTSRB/GT-final_test.csv', sep=';')\n",
    "X_test = []\n",
    "y_test = []\n",
    "\n",
    "i=0\n",
    "for file_name, class_id in zip(list(test['Filename']),list(test['ClassId'])):\n",
    "    img_path = os.path.join('GTSRB/Final_Test/Images/',file_name)\n",
    "    X_test.append(preprocess_img(io.imread(img_path)))\n",
    "    y_test.append(class_id)\n",
    "    \n",
    "X_test = np.array(X_test)\n",
    "y_test = np.array(y_test)\n",
    "\n",
    "print(\"X_test.shape: \", X_test.shape)\n",
    "print(\"y_test.shape: \", y_test.shape)"
   ]
  },
  {
   "cell_type": "markdown",
   "metadata": {},
   "source": [
    "### Test Accuracy"
   ]
  },
  {
   "cell_type": "code",
   "execution_count": 9,
   "metadata": {},
   "outputs": [
    {
     "name": "stdout",
     "output_type": "stream",
     "text": [
      "Test accuracy = 0.9756927949326999\n"
     ]
    }
   ],
   "source": [
    "y_pred = model.predict_classes(X_test)\n",
    "acc = np.sum(y_pred==y_test)/np.size(y_pred)\n",
    "print(\"Test accuracy = {}\".format(acc))"
   ]
  },
  {
   "cell_type": "markdown",
   "metadata": {},
   "source": [
    "## Data Augmentation(use ImageDataGenerator)"
   ]
  },
  {
   "cell_type": "code",
   "execution_count": 10,
   "metadata": {},
   "outputs": [],
   "source": [
    "from sklearn.model_selection import train_test_split\n",
    "\n",
    "X_train, X_val, Y_train, Y_val = train_test_split(X, Y, test_size=0.2, random_state=42)\n",
    "\n",
    "datagen = ImageDataGenerator(featurewise_center=False, \n",
    "                            featurewise_std_normalization=False, \n",
    "                            rotation_range=10.,\n",
    "                            width_shift_range=0.1,\n",
    "                            height_shift_range=0.1,                             \n",
    "                            shear_range=0.1,\n",
    "                            zoom_range=0.2,\n",
    "                            )\n",
    "\n",
    "datagen.fit(X_train)"
   ]
  },
  {
   "cell_type": "code",
   "execution_count": 11,
   "metadata": {},
   "outputs": [
    {
     "name": "stdout",
     "output_type": "stream",
     "text": [
      "Epoch 1/30\n",
      "981/980 [==============================] - 10s 10ms/step - loss: 2.6272 - acc: 0.2432 - val_loss: 1.2090 - val_acc: 0.5896\n",
      "Epoch 2/30\n",
      "981/980 [==============================] - 9s 10ms/step - loss: 1.0004 - acc: 0.6764 - val_loss: 0.2747 - val_acc: 0.9074\n",
      "Epoch 3/30\n",
      "981/980 [==============================] - 9s 10ms/step - loss: 0.4511 - acc: 0.8548 - val_loss: 0.1306 - val_acc: 0.9554\n",
      "Epoch 4/30\n",
      "981/980 [==============================] - 10s 10ms/step - loss: 0.3012 - acc: 0.9056 - val_loss: 0.0613 - val_acc: 0.9790\n",
      "Epoch 5/30\n",
      "981/980 [==============================] - 10s 10ms/step - loss: 0.2202 - acc: 0.9307 - val_loss: 0.0437 - val_acc: 0.9869\n",
      "Epoch 6/30\n",
      "981/980 [==============================] - 10s 10ms/step - loss: 0.1939 - acc: 0.9398 - val_loss: 0.0407 - val_acc: 0.9878\n",
      "Epoch 7/30\n",
      "981/980 [==============================] - 10s 10ms/step - loss: 0.1566 - acc: 0.9509 - val_loss: 0.0334 - val_acc: 0.9889\n",
      "Epoch 8/30\n",
      "981/980 [==============================] - 9s 10ms/step - loss: 0.1558 - acc: 0.9534 - val_loss: 0.0274 - val_acc: 0.9915\n",
      "Epoch 9/30\n",
      "981/980 [==============================] - 10s 10ms/step - loss: 0.1297 - acc: 0.9606 - val_loss: 0.0300 - val_acc: 0.9903\n",
      "Epoch 10/30\n",
      "981/980 [==============================] - 10s 10ms/step - loss: 0.1220 - acc: 0.9634 - val_loss: 0.0205 - val_acc: 0.9934\n",
      "Epoch 11/30\n",
      "981/980 [==============================] - 10s 10ms/step - loss: 0.0652 - acc: 0.9806 - val_loss: 0.0125 - val_acc: 0.9958\n",
      "Epoch 12/30\n",
      "981/980 [==============================] - 10s 10ms/step - loss: 0.0510 - acc: 0.9846 - val_loss: 0.0122 - val_acc: 0.9962\n",
      "Epoch 13/30\n",
      "981/980 [==============================] - 10s 10ms/step - loss: 0.0457 - acc: 0.9861 - val_loss: 0.0110 - val_acc: 0.9964\n",
      "Epoch 14/30\n",
      "981/980 [==============================] - 10s 10ms/step - loss: 0.0378 - acc: 0.9884 - val_loss: 0.0118 - val_acc: 0.9962\n",
      "Epoch 15/30\n",
      "981/980 [==============================] - 10s 10ms/step - loss: 0.0417 - acc: 0.9872 - val_loss: 0.0104 - val_acc: 0.9968\n",
      "Epoch 16/30\n",
      "981/980 [==============================] - 10s 10ms/step - loss: 0.0416 - acc: 0.9869 - val_loss: 0.0088 - val_acc: 0.9969\n",
      "Epoch 17/30\n",
      "981/980 [==============================] - 10s 10ms/step - loss: 0.0385 - acc: 0.9886 - val_loss: 0.0098 - val_acc: 0.9968\n",
      "Epoch 18/30\n",
      "981/980 [==============================] - 10s 10ms/step - loss: 0.0349 - acc: 0.9894 - val_loss: 0.0096 - val_acc: 0.9972\n",
      "Epoch 19/30\n",
      "981/980 [==============================] - 9s 10ms/step - loss: 0.0355 - acc: 0.9884 - val_loss: 0.0085 - val_acc: 0.9977\n",
      "Epoch 20/30\n",
      "981/980 [==============================] - 9s 10ms/step - loss: 0.0340 - acc: 0.9903 - val_loss: 0.0080 - val_acc: 0.9976\n",
      "Epoch 21/30\n",
      "981/980 [==============================] - 10s 10ms/step - loss: 0.0324 - acc: 0.9902 - val_loss: 0.0080 - val_acc: 0.9976\n",
      "Epoch 22/30\n",
      "981/980 [==============================] - 10s 10ms/step - loss: 0.0314 - acc: 0.9908 - val_loss: 0.0080 - val_acc: 0.9969\n",
      "Epoch 23/30\n",
      "981/980 [==============================] - 10s 10ms/step - loss: 0.0330 - acc: 0.9898 - val_loss: 0.0078 - val_acc: 0.9972\n",
      "Epoch 24/30\n",
      "981/980 [==============================] - 10s 10ms/step - loss: 0.0304 - acc: 0.9901 - val_loss: 0.0077 - val_acc: 0.9969\n",
      "Epoch 25/30\n",
      "981/980 [==============================] - 10s 10ms/step - loss: 0.0285 - acc: 0.9908 - val_loss: 0.0077 - val_acc: 0.9974\n",
      "Epoch 26/30\n",
      "981/980 [==============================] - 10s 10ms/step - loss: 0.0289 - acc: 0.9910 - val_loss: 0.0077 - val_acc: 0.9974\n",
      "Epoch 27/30\n",
      "981/980 [==============================] - 10s 10ms/step - loss: 0.0308 - acc: 0.9909 - val_loss: 0.0077 - val_acc: 0.9976\n",
      "Epoch 28/30\n",
      "981/980 [==============================] - 10s 10ms/step - loss: 0.0312 - acc: 0.9898 - val_loss: 0.0077 - val_acc: 0.9976\n",
      "Epoch 29/30\n",
      "981/980 [==============================] - 10s 10ms/step - loss: 0.0313 - acc: 0.9908 - val_loss: 0.0077 - val_acc: 0.9976\n",
      "Epoch 30/30\n",
      "981/980 [==============================] - 10s 10ms/step - loss: 0.0305 - acc: 0.9900 - val_loss: 0.0077 - val_acc: 0.9976\n"
     ]
    }
   ],
   "source": [
    "model = cnn_model()\n",
    "\n",
    "lr = 0.01\n",
    "sgd = SGD(lr=lr, decay=1e-6, momentum=0.9, nesterov=True)\n",
    "model.compile(loss='categorical_crossentropy',\n",
    "             optimizer=sgd,\n",
    "             metrics=['accuracy'])\n",
    "\n",
    "def lr_schedule(epoch):\n",
    "    return lr*(0.1**int(epoch/10))\n",
    "\n",
    "batch_size = 32\n",
    "nb_epoch = 30\n",
    "\n",
    "history = model.fit_generator(datagen.flow(X_train, Y_train, batch_size=batch_size),\n",
    "                            steps_per_epoch=X_train.shape[0]/batch_size,\n",
    "                            epochs=nb_epoch,\n",
    "                            validation_data=(X_val, Y_val),\n",
    "                            callbacks=[LearningRateScheduler(lr_schedule),\n",
    "                                       ModelCheckpoint('model2.h5',save_best_only=True)]\n",
    "                           )"
   ]
  },
  {
   "cell_type": "code",
   "execution_count": 12,
   "metadata": {},
   "outputs": [
    {
     "data": {
      "image/png": "[encoded data removed]",
      "text/plain": [
       "<Figure size 864x288 with 2 Axes>"
      ]
     },
     "metadata": {},
     "output_type": "display_data"
    }
   ],
   "source": [
    "import matplotlib.pyplot as plt\n",
    "\n",
    "def plot_train_history(history, train_metrics, val_metrics):\n",
    "    plt.plot(history.history.get(train_metrics),'b-*')\n",
    "    plt.plot(history.history.get(val_metrics),'r-*')\n",
    "    plt.ylabel(train_metrics)\n",
    "    plt.xlabel('Epochs')\n",
    "    plt.legend(['train', 'validation'])\n",
    "    \n",
    "    \n",
    "plt.figure(figsize=(12,4))\n",
    "plt.grid()\n",
    "plt.subplot(1,2,1)\n",
    "plot_train_history(history, 'loss','val_loss')\n",
    "\n",
    "\n",
    "plt.subplot(1,2,2)\n",
    "plot_train_history(history, 'acc','val_acc')\n",
    "\n",
    "\n",
    "plt.show()"
   ]
  },
  {
   "cell_type": "markdown",
   "metadata": {},
   "source": [
    "## Evaluation(Data Augmentation)"
   ]
  },
  {
   "cell_type": "code",
   "execution_count": 13,
   "metadata": {},
   "outputs": [
    {
     "name": "stdout",
     "output_type": "stream",
     "text": [
      "Test accuracy = 0.9815518606492478\n"
     ]
    }
   ],
   "source": [
    "y_pred = model.predict_classes(X_test)\n",
    "acc = np.sum(y_pred==y_test)/np.size(y_pred)\n",
    "print(\"Test accuracy = {}\".format(acc))"
   ]
  },
  {
   "cell_type": "code",
   "execution_count": null,
   "metadata": {},
   "outputs": [],
   "source": []
  }
 ],
 "metadata": {
  "kernelspec": {
   "display_name": "Python 3",
   "language": "python",
   "name": "python3"
  },
  "language_info": {
   "codemirror_mode": {
    "name": "ipython",
    "version": 3
   },
   "file_extension": ".py",
   "mimetype": "text/x-python",
   "name": "python",
   "nbconvert_exporter": "python",
   "pygments_lexer": "ipython3",
   "version": "3.6.3"
  }
 },
 "nbformat": 4,
 "nbformat_minor": 2
}
